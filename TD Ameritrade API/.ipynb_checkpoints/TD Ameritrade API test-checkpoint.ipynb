{
 "cells": [
  {
   "cell_type": "code",
   "execution_count": 4,
   "metadata": {},
   "outputs": [],
   "source": [
    "import requests\n",
    "from config import client_id"
   ]
  },
  {
   "cell_type": "code",
   "execution_count": 14,
   "metadata": {},
   "outputs": [],
   "source": [
    "# daily price endpoit \n",
    "endpoint = r\"https://api.tdameritrade.com/v1/marketdata/{}/pricehistory\".format('GOOG')\n",
    "\n",
    "# define payload \n",
    "payload = {'apikey' : 'FBMEV14XUBDCEZM7OFT6W8DMHUCYAN01',\n",
    "          'periodType' : 'month',\n",
    "          'frequencyType' : 'daily',\n",
    "           'frequency': '1',\n",
    "          'period' : '6',\n",
    "          'needExtendedHoursData' : 'true'}\n",
    "\n",
    "# make request\n",
    "content = requests.get(url = endpoint, params = payload)\n",
    "\n",
    "# covert to dictionary\n",
    "data = content.json()\n",
    "#data"
   ]
  },
  {
   "cell_type": "code",
   "execution_count": 25,
   "metadata": {},
   "outputs": [],
   "source": [
    "# Quotes endpoit \n",
    "endpoint = r\"https://api.tdameritrade.com/v1/marketdata/quotes\"\n",
    "\n",
    "# define payload \n",
    "payload = {'apikey': 'FBMEV14XUBDCEZM7OFT6W8DMHUCYAN01',\n",
    "          'symbol': 'FB,AAPL,AMZN,MSFT,GOOGL'}\n",
    "\n",
    "# make request\n",
    "content = requests.get(url = endpoint, params = payload)\n",
    "\n",
    "# covert to dictionary\n",
    "quotes_data = content.json()\n",
    "#quotes_data"
   ]
  },
  {
   "cell_type": "code",
   "execution_count": null,
   "metadata": {},
   "outputs": [],
   "source": []
  }
 ],
 "metadata": {
  "kernelspec": {
   "display_name": "Python 3",
   "language": "python",
   "name": "python3"
  },
  "language_info": {
   "codemirror_mode": {
    "name": "ipython",
    "version": 3
   },
   "file_extension": ".py",
   "mimetype": "text/x-python",
   "name": "python",
   "nbconvert_exporter": "python",
   "pygments_lexer": "ipython3",
   "version": "3.8.3"
  }
 },
 "nbformat": 4,
 "nbformat_minor": 4
}
